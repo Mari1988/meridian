{
 "cells": [
  {
   "cell_type": "markdown",
   "metadata": {},
   "source": [
    "## Setup and Imports"
   ]
  },
  {
   "cell_type": "code",
   "execution_count": 237,
   "metadata": {},
   "outputs": [
    {
     "name": "stdout",
     "output_type": "stream",
     "text": [
      "✅ All imports successful!\n"
     ]
    }
   ],
   "source": [
    "import time\n",
    "import numpy as np\n",
    "import pandas as pd\n",
    "import altair as alt\n",
    "from meridian.model import model\n",
    "from meridian.analysis import fast_response_curves\n",
    "from meridian.analysis import visualizer\n",
    "\n",
    "# Enable Altair for Jupyter\n",
    "alt.data_transformers.enable('json')\n",
    "\n",
    "print(\"✅ All imports successful!\")"
   ]
  },
  {
   "cell_type": "code",
   "execution_count": 238,
   "metadata": {},
   "outputs": [
    {
     "name": "stdout",
     "output_type": "stream",
     "text": [
      "The autoreload extension is already loaded. To reload it, use:\n",
      "  %reload_ext autoreload\n"
     ]
    }
   ],
   "source": [
    "%load_ext autoreload\n",
    "%autoreload 2"
   ]
  },
  {
   "cell_type": "markdown",
   "metadata": {},
   "source": [
    "## Load the Model"
   ]
  },
  {
   "cell_type": "code",
   "execution_count": 239,
   "metadata": {},
   "outputs": [
    {
     "name": "stdout",
     "output_type": "stream",
     "text": [
      "Loading Audi model...\n",
      "✅ Loaded Audi model successfully!\n",
      "Model details:\n",
      "  - Geos: 30\n",
      "  - Time periods: 78\n",
      "  - Media channels: 3\n",
      "  - Channel names: ['TV', 'Display', 'Video']\n",
      "  - Posterior samples: 2 chains × 2000 draws\n",
      "  - Has revenue per KPI: True\n"
     ]
    }
   ],
   "source": [
    "# Load the real Audi model\n",
    "print(\"Loading Audi model...\")\n",
    "mmm = model.load_mmm('meridian/data/0_test_Audi.pkl')\n",
    "\n",
    "print(f\"✅ Loaded Audi model successfully!\")\n",
    "print(f\"Model details:\")\n",
    "print(f\"  - Geos: {mmm.n_geos}\")\n",
    "print(f\"  - Time periods: {mmm.n_times}\")\n",
    "print(f\"  - Media channels: {mmm.n_media_channels}\")\n",
    "print(f\"  - Channel names: {list(mmm.input_data.media_channel.values)}\")\n",
    "print(f\"  - Posterior samples: {mmm.inference_data.posterior.chain.size} chains × {mmm.inference_data.posterior.draw.size} draws\")\n",
    "print(f\"  - Has revenue per KPI: {mmm.input_data.revenue_per_kpi is not None}\")"
   ]
  },
  {
   "cell_type": "code",
   "execution_count": null,
   "metadata": {},
   "outputs": [
    {
     "name": "stdout",
     "output_type": "stream",
     "text": [
      "Initializing FastResponseCurves...\n",
      "\n",
      "📊 Extracted Median Parameters:\n",
      "Media Parameters:\n",
      "  ec: [1.7848499 2.4640331 6.6890507]\n",
      "  slope: [1.9554161 1.6472095 2.2099836]\n",
      "  alpha: [0.72785664 0.44213519 0.35649306]\n",
      "  beta: [[0.80981284 1.9012511  0.08089066]\n",
      " [0.51529133 0.23066592 0.08046897]\n",
      " [1.3150611  0.1574071  0.08081126]\n",
      " [0.64918983 0.5938306  0.08068982]\n",
      " [1.1782352  0.23036027 0.08046756]\n",
      " [1.5945857  1.6312532  0.08092123]\n",
      " [2.1041825  0.14655419 0.08024985]\n",
      " [0.35678148 0.17647648 0.08053552]\n",
      " [0.62451607 0.3410471  0.08085941]\n",
      " [0.76727474 1.2669538  0.08080655]\n",
      " [1.9601594  0.6096046  0.08085322]\n",
      " [1.2308985  2.553587   0.08092396]\n",
      " [0.66949415 0.55078614 0.08105425]\n",
      " [0.5347257  0.73873764 0.08055339]\n",
      " [0.5783776  0.40243137 0.08093156]\n",
      " [0.5463298  0.15169615 0.0805738 ]\n",
      " [1.5988507  0.21528497 0.080392  ]\n",
      " [0.30869478 0.05210268 0.08059177]\n",
      " [0.6539594  0.34719568 0.08061485]\n",
      " [0.5910076  0.23953283 0.08035229]\n",
      " [0.7109065  0.52290195 0.08087035]\n",
      " [0.90783846 0.32954907 0.08061752]\n",
      " [1.075444   0.36795783 0.08067642]\n",
      " [0.47937092 0.45527244 0.08092552]\n",
      " [1.2114179  1.7235804  0.08052424]\n",
      " [1.458144   1.3277798  0.0807333 ]\n",
      " [0.37656963 0.14093201 0.08116934]\n",
      " [2.142004   0.983202   0.0810326 ]\n",
      " [2.9920092  0.11003491 0.08071394]\n",
      " [0.6775611  0.43484783 0.08086454]]\n",
      "\n",
      "🎯 Total channels: 3\n",
      "Channel names: ['TV', 'Display', 'Video']\n"
     ]
    }
   ],
   "source": [
    "# Initialize FastResponseCurves\n",
    "print(\"Initializing FastResponseCurves...\")\n",
    "fast_rc = fast_response_curves.FastResponseCurves(mmm)\n",
    "\n",
    "# Inspect extracted parameters\n",
    "print(\"\\n📊 Extracted Median Parameters:\")\n",
    "if fast_rc.has_media_data:\n",
    "    print(\"Media Parameters:\")\n",
    "    for param_name, values in fast_rc.media_params.items():\n",
    "        print(f\"  {param_name}: {values}\")\n",
    "\n",
    "if fast_rc.has_rf_data:\n",
    "    print(\"\\nR&F Parameters:\")\n",
    "    for param_name, values in fast_rc.rf_params.items():\n",
    "        print(f\"  {param_name}: {values}\")\n",
    "\n",
    "print(f\"\\n🎯 Total channels: {fast_rc.n_total_channels}\")\n",
    "print(f\"Channel names: {fast_rc.channel_names}\")"
   ]
  },
  {
   "cell_type": "code",
   "execution_count": null,
   "metadata": {},
   "outputs": [],
   "source": []
  },
  {
   "cell_type": "code",
   "execution_count": null,
   "metadata": {},
   "outputs": [],
   "source": []
  },
  {
   "cell_type": "code",
   "execution_count": null,
   "metadata": {},
   "outputs": [],
   "source": []
  },
  {
   "cell_type": "code",
   "execution_count": null,
   "metadata": {},
   "outputs": [],
   "source": []
  },
  {
   "cell_type": "code",
   "execution_count": null,
   "metadata": {},
   "outputs": [],
   "source": []
  },
  {
   "cell_type": "code",
   "execution_count": null,
   "metadata": {},
   "outputs": [],
   "source": []
  },
  {
   "cell_type": "code",
   "execution_count": null,
   "metadata": {},
   "outputs": [],
   "source": []
  },
  {
   "cell_type": "code",
   "execution_count": null,
   "metadata": {},
   "outputs": [],
   "source": []
  },
  {
   "cell_type": "code",
   "execution_count": null,
   "metadata": {},
   "outputs": [],
   "source": []
  },
  {
   "cell_type": "code",
   "execution_count": null,
   "metadata": {},
   "outputs": [],
   "source": []
  },
  {
   "cell_type": "markdown",
   "metadata": {},
   "source": [
    "1. First, Get the Response Curve data for the original code"
   ]
  },
  {
   "cell_type": "code",
   "execution_count": 219,
   "metadata": {},
   "outputs": [
    {
     "name": "stdout",
     "output_type": "stream",
     "text": [
      "Getting actual response curves...\n"
     ]
    }
   ],
   "source": [
    "from meridian import constants as c\n",
    "\n",
    "confidence_level: float = c.DEFAULT_CONFIDENCE_LEVEL\n",
    "selected_times: frozenset[str] | None = None\n",
    "by_reach: bool = True\n",
    "\n",
    "# 1. Get the response curve data based on the original posterior samples\n",
    "print(\"Getting actual response curves...\")\n",
    "media_effects = visualizer.MediaEffects(mmm)\n",
    "total_num_channels = len(media_effects._meridian.input_data.get_all_channels())\n",
    "num_channels_displayed = total_num_channels\n",
    "actual_rc_data = media_effects._transform_response_curve_metrics(\n",
    "    num_channels_displayed,\n",
    "    confidence_level=confidence_level,\n",
    "    selected_times=selected_times,\n",
    "    by_reach=by_reach,\n",
    ")"
   ]
  },
  {
   "cell_type": "code",
   "execution_count": 220,
   "metadata": {},
   "outputs": [
    {
     "name": "stdout",
     "output_type": "stream",
     "text": [
      "Initializing FastResponseCurves with granular multipliers...\n"
     ]
    }
   ],
   "source": [
    "\n",
    "# 2. Get the fast response curve data using same granular multipliers\n",
    "print(\"Initializing FastResponseCurves with granular multipliers...\")\n",
    "fast_rc = fast_response_curves.FastResponseCurves(mmm)\n",
    "actual_multipliers = sorted(actual_rc_data['spend_multiplier'].unique())\n",
    "fast_rc_data = fast_rc.response_curves_data(spend_multipliers=actual_multipliers).to_dataframe().reset_index()"
   ]
  },
  {
   "cell_type": "code",
   "execution_count": 221,
   "metadata": {},
   "outputs": [
    {
     "data": {
      "text/html": [
       "<div>\n",
       "<style scoped>\n",
       "    .dataframe tbody tr th:only-of-type {\n",
       "        vertical-align: middle;\n",
       "    }\n",
       "\n",
       "    .dataframe tbody tr th {\n",
       "        vertical-align: top;\n",
       "    }\n",
       "\n",
       "    .dataframe thead th {\n",
       "        text-align: right;\n",
       "    }\n",
       "</style>\n",
       "<table border=\"1\" class=\"dataframe\">\n",
       "  <thead>\n",
       "    <tr style=\"text-align: right;\">\n",
       "      <th></th>\n",
       "      <th>channel</th>\n",
       "      <th>metric</th>\n",
       "      <th>spend_multiplier</th>\n",
       "      <th>spend</th>\n",
       "      <th>incremental_outcome</th>\n",
       "      <th>roi</th>\n",
       "    </tr>\n",
       "  </thead>\n",
       "  <tbody>\n",
       "    <tr>\n",
       "      <th>0</th>\n",
       "      <td>TV</td>\n",
       "      <td>mean</td>\n",
       "      <td>0.00</td>\n",
       "      <td>0.000000e+00</td>\n",
       "      <td>0.000000e+00</td>\n",
       "      <td>0.000000</td>\n",
       "    </tr>\n",
       "    <tr>\n",
       "      <th>1</th>\n",
       "      <td>TV</td>\n",
       "      <td>mean</td>\n",
       "      <td>0.01</td>\n",
       "      <td>3.139351e+05</td>\n",
       "      <td>6.499977e+03</td>\n",
       "      <td>0.020705</td>\n",
       "    </tr>\n",
       "    <tr>\n",
       "      <th>2</th>\n",
       "      <td>TV</td>\n",
       "      <td>mean</td>\n",
       "      <td>0.02</td>\n",
       "      <td>6.278702e+05</td>\n",
       "      <td>2.519622e+04</td>\n",
       "      <td>0.040130</td>\n",
       "    </tr>\n",
       "    <tr>\n",
       "      <th>3</th>\n",
       "      <td>TV</td>\n",
       "      <td>mean</td>\n",
       "      <td>0.03</td>\n",
       "      <td>9.418053e+05</td>\n",
       "      <td>5.563460e+04</td>\n",
       "      <td>0.059072</td>\n",
       "    </tr>\n",
       "    <tr>\n",
       "      <th>4</th>\n",
       "      <td>TV</td>\n",
       "      <td>mean</td>\n",
       "      <td>0.04</td>\n",
       "      <td>1.255740e+06</td>\n",
       "      <td>9.754739e+04</td>\n",
       "      <td>0.077681</td>\n",
       "    </tr>\n",
       "    <tr>\n",
       "      <th>...</th>\n",
       "      <td>...</td>\n",
       "      <td>...</td>\n",
       "      <td>...</td>\n",
       "      <td>...</td>\n",
       "      <td>...</td>\n",
       "      <td>...</td>\n",
       "    </tr>\n",
       "    <tr>\n",
       "      <th>655</th>\n",
       "      <td>Video</td>\n",
       "      <td>mean</td>\n",
       "      <td>2.15</td>\n",
       "      <td>1.044173e+07</td>\n",
       "      <td>1.118925e+06</td>\n",
       "      <td>0.107159</td>\n",
       "    </tr>\n",
       "    <tr>\n",
       "      <th>656</th>\n",
       "      <td>Video</td>\n",
       "      <td>mean</td>\n",
       "      <td>2.16</td>\n",
       "      <td>1.049030e+07</td>\n",
       "      <td>1.127067e+06</td>\n",
       "      <td>0.107439</td>\n",
       "    </tr>\n",
       "    <tr>\n",
       "      <th>657</th>\n",
       "      <td>Video</td>\n",
       "      <td>mean</td>\n",
       "      <td>2.17</td>\n",
       "      <td>1.053886e+07</td>\n",
       "      <td>1.135214e+06</td>\n",
       "      <td>0.107717</td>\n",
       "    </tr>\n",
       "    <tr>\n",
       "      <th>658</th>\n",
       "      <td>Video</td>\n",
       "      <td>mean</td>\n",
       "      <td>2.18</td>\n",
       "      <td>1.058743e+07</td>\n",
       "      <td>1.143366e+06</td>\n",
       "      <td>0.107993</td>\n",
       "    </tr>\n",
       "    <tr>\n",
       "      <th>659</th>\n",
       "      <td>Video</td>\n",
       "      <td>mean</td>\n",
       "      <td>2.19</td>\n",
       "      <td>1.063600e+07</td>\n",
       "      <td>1.151522e+06</td>\n",
       "      <td>0.108267</td>\n",
       "    </tr>\n",
       "  </tbody>\n",
       "</table>\n",
       "<p>660 rows × 6 columns</p>\n",
       "</div>"
      ],
      "text/plain": [
       "    channel metric  spend_multiplier         spend  incremental_outcome  \\\n",
       "0        TV   mean              0.00  0.000000e+00         0.000000e+00   \n",
       "1        TV   mean              0.01  3.139351e+05         6.499977e+03   \n",
       "2        TV   mean              0.02  6.278702e+05         2.519622e+04   \n",
       "3        TV   mean              0.03  9.418053e+05         5.563460e+04   \n",
       "4        TV   mean              0.04  1.255740e+06         9.754739e+04   \n",
       "..      ...    ...               ...           ...                  ...   \n",
       "655   Video   mean              2.15  1.044173e+07         1.118925e+06   \n",
       "656   Video   mean              2.16  1.049030e+07         1.127067e+06   \n",
       "657   Video   mean              2.17  1.053886e+07         1.135214e+06   \n",
       "658   Video   mean              2.18  1.058743e+07         1.143366e+06   \n",
       "659   Video   mean              2.19  1.063600e+07         1.151522e+06   \n",
       "\n",
       "          roi  \n",
       "0    0.000000  \n",
       "1    0.020705  \n",
       "2    0.040130  \n",
       "3    0.059072  \n",
       "4    0.077681  \n",
       "..        ...  \n",
       "655  0.107159  \n",
       "656  0.107439  \n",
       "657  0.107717  \n",
       "658  0.107993  \n",
       "659  0.108267  \n",
       "\n",
       "[660 rows x 6 columns]"
      ]
     },
     "execution_count": 221,
     "metadata": {},
     "output_type": "execute_result"
    }
   ],
   "source": [
    "fast_rc_data"
   ]
  },
  {
   "cell_type": "code",
   "execution_count": 233,
   "metadata": {},
   "outputs": [
    {
     "data": {
      "text/html": [
       "\n",
       "<style>\n",
       "  #altair-viz-8cf5530d2ac443e7b7a1aa27674a3fec.vega-embed {\n",
       "    width: 100%;\n",
       "    display: flex;\n",
       "  }\n",
       "\n",
       "  #altair-viz-8cf5530d2ac443e7b7a1aa27674a3fec.vega-embed details,\n",
       "  #altair-viz-8cf5530d2ac443e7b7a1aa27674a3fec.vega-embed details summary {\n",
       "    position: relative;\n",
       "  }\n",
       "</style>\n",
       "<div id=\"altair-viz-8cf5530d2ac443e7b7a1aa27674a3fec\"></div>\n",
       "<script type=\"text/javascript\">\n",
       "  var VEGA_DEBUG = (typeof VEGA_DEBUG == \"undefined\") ? {} : VEGA_DEBUG;\n",
       "  (function(spec, embedOpt){\n",
       "    let outputDiv = document.currentScript.previousElementSibling;\n",
       "    if (outputDiv.id !== \"altair-viz-8cf5530d2ac443e7b7a1aa27674a3fec\") {\n",
       "      outputDiv = document.getElementById(\"altair-viz-8cf5530d2ac443e7b7a1aa27674a3fec\");\n",
       "    }\n",
       "\n",
       "    const paths = {\n",
       "      \"vega\": \"https://cdn.jsdelivr.net/npm/vega@5?noext\",\n",
       "      \"vega-lib\": \"https://cdn.jsdelivr.net/npm/vega-lib?noext\",\n",
       "      \"vega-lite\": \"https://cdn.jsdelivr.net/npm/vega-lite@5.20.1?noext\",\n",
       "      \"vega-embed\": \"https://cdn.jsdelivr.net/npm/vega-embed@6?noext\",\n",
       "    };\n",
       "\n",
       "    function maybeLoadScript(lib, version) {\n",
       "      var key = `${lib.replace(\"-\", \"\")}_version`;\n",
       "      return (VEGA_DEBUG[key] == version) ?\n",
       "        Promise.resolve(paths[lib]) :\n",
       "        new Promise(function(resolve, reject) {\n",
       "          var s = document.createElement('script');\n",
       "          document.getElementsByTagName(\"head\")[0].appendChild(s);\n",
       "          s.async = true;\n",
       "          s.onload = () => {\n",
       "            VEGA_DEBUG[key] = version;\n",
       "            return resolve(paths[lib]);\n",
       "          };\n",
       "          s.onerror = () => reject(`Error loading script: ${paths[lib]}`);\n",
       "          s.src = paths[lib];\n",
       "        });\n",
       "    }\n",
       "\n",
       "    function showError(err) {\n",
       "      outputDiv.innerHTML = `<div class=\"error\" style=\"color:red;\">${err}</div>`;\n",
       "      throw err;\n",
       "    }\n",
       "\n",
       "    function displayChart(vegaEmbed) {\n",
       "      vegaEmbed(outputDiv, spec, embedOpt)\n",
       "        .catch(err => showError(`Javascript Error: ${err.message}<br>This usually means there's a typo in your chart specification. See the javascript console for the full traceback.`));\n",
       "    }\n",
       "\n",
       "    if(typeof define === \"function\" && define.amd) {\n",
       "      requirejs.config({paths});\n",
       "      let deps = [\"vega-embed\"];\n",
       "      require(deps, displayChart, err => showError(`Error loading script: ${err.message}`));\n",
       "    } else {\n",
       "      maybeLoadScript(\"vega\", \"5\")\n",
       "        .then(() => maybeLoadScript(\"vega-lite\", \"5.20.1\"))\n",
       "        .then(() => maybeLoadScript(\"vega-embed\", \"6\"))\n",
       "        .catch(showError)\n",
       "        .then(() => displayChart(vegaEmbed));\n",
       "    }\n",
       "  })({\"config\": {\"view\": {\"continuousWidth\": 300, \"continuousHeight\": 300}, \"axis\": {\"labelColor\": \"#5F6368\", \"labelFont\": \"Roboto\", \"labelFontSize\": 12, \"titleColor\": \"#5F6368\", \"titleFont\": \"Roboto\", \"titleFontSize\": 12, \"titleFontWeight\": \"normal\"}}, \"data\": {\"url\": \"altair-data-cc12989539ac89136e1a337ab68c31a4.json\", \"format\": {\"type\": \"json\"}}, \"facet\": {\"field\": \"channel\", \"type\": \"nominal\"}, \"spec\": {\"layer\": [{\"mark\": {\"type\": \"line\"}, \"encoding\": {\"color\": {\"field\": \"channel\", \"type\": \"nominal\"}, \"strokeDash\": {\"field\": \"spend_level\", \"legend\": {\"title\": null}, \"sort\": \"descending\", \"type\": \"nominal\"}, \"x\": {\"axis\": {\"domainColor\": \"#DADCE0\", \"labelExpr\": \"replace(format(datum.value, '.3~s'), 'G', 'B')\", \"labelPadding\": 10, \"ticks\": false}, \"field\": \"spend\", \"title\": \"Spend\", \"type\": \"quantitative\"}, \"y\": {\"axis\": {\"labelExpr\": \"replace(format(datum.value, '.3~s'), 'G', 'B')\", \"titleAlign\": \"left\", \"titleAngle\": 0, \"titleY\": -20}, \"field\": \"mean\", \"title\": \"Incremental outcome\", \"type\": \"quantitative\"}}, \"transform\": [{\"calculate\": \"datum.spend_multiplier >= 1.0 ? \\\"Above current spend\\\" : \\\"Below current spend\\\"\", \"as\": \"spend_level\"}]}, {\"mark\": {\"type\": \"point\", \"filled\": true, \"opacity\": 1, \"size\": 80}, \"encoding\": {\"color\": {\"field\": \"channel\", \"type\": \"nominal\"}, \"shape\": {\"field\": \"current_spend\", \"legend\": {\"title\": null}, \"type\": \"nominal\"}, \"tooltip\": [{\"field\": \"spend\", \"type\": \"quantitative\"}, {\"field\": \"mean\", \"type\": \"quantitative\"}], \"x\": {\"axis\": {\"domainColor\": \"#DADCE0\", \"labelExpr\": \"replace(format(datum.value, '.3~s'), 'G', 'B')\", \"labelPadding\": 10, \"ticks\": false}, \"field\": \"spend\", \"title\": \"Spend\", \"type\": \"quantitative\"}, \"y\": {\"axis\": {\"labelExpr\": \"replace(format(datum.value, '.3~s'), 'G', 'B')\", \"titleAlign\": \"left\", \"titleAngle\": 0, \"titleY\": -20}, \"field\": \"mean\", \"title\": \"Incremental outcome\", \"type\": \"quantitative\"}}, \"transform\": [{\"calculate\": \"datum.spend_multiplier >= 1.0 ? \\\"Above current spend\\\" : \\\"Below current spend\\\"\", \"as\": \"spend_level\"}, {\"filter\": \"(datum.spend_multiplier === 1.0)\"}]}], \"width\": 400}, \"columns\": 3, \"resolve\": {\"scale\": {\"x\": \"independent\", \"y\": \"independent\"}}, \"title\": {\"text\": \"Response curves by marketing channel \", \"anchor\": \"start\", \"color\": \"#3C4043\", \"font\": \"Google Sans Display\", \"fontSize\": 18, \"fontWeight\": \"normal\", \"offset\": 10}, \"$schema\": \"https://vega.github.io/schema/vega-lite/v5.20.1.json\"}, {\"mode\": \"vega-lite\"});\n",
       "</script>"
      ],
      "text/plain": [
       "alt.FacetChart(...)"
      ]
     },
     "execution_count": 233,
     "metadata": {},
     "output_type": "execute_result"
    }
   ],
   "source": [
    "# Plot the response curves\n",
    "step = 0.01\n",
    "fast_rc.plot_response_curves(spend_multipliers=np.arange(0, 10+step, step=step), plot_separately=True)"
   ]
  },
  {
   "cell_type": "code",
   "execution_count": 232,
   "metadata": {},
   "outputs": [
    {
     "data": {
      "text/html": [
       "\n",
       "<style>\n",
       "  #altair-viz-f00305b4da6f4e428a2d2430284910d4.vega-embed {\n",
       "    width: 100%;\n",
       "    display: flex;\n",
       "  }\n",
       "\n",
       "  #altair-viz-f00305b4da6f4e428a2d2430284910d4.vega-embed details,\n",
       "  #altair-viz-f00305b4da6f4e428a2d2430284910d4.vega-embed details summary {\n",
       "    position: relative;\n",
       "  }\n",
       "</style>\n",
       "<div id=\"altair-viz-f00305b4da6f4e428a2d2430284910d4\"></div>\n",
       "<script type=\"text/javascript\">\n",
       "  var VEGA_DEBUG = (typeof VEGA_DEBUG == \"undefined\") ? {} : VEGA_DEBUG;\n",
       "  (function(spec, embedOpt){\n",
       "    let outputDiv = document.currentScript.previousElementSibling;\n",
       "    if (outputDiv.id !== \"altair-viz-f00305b4da6f4e428a2d2430284910d4\") {\n",
       "      outputDiv = document.getElementById(\"altair-viz-f00305b4da6f4e428a2d2430284910d4\");\n",
       "    }\n",
       "\n",
       "    const paths = {\n",
       "      \"vega\": \"https://cdn.jsdelivr.net/npm/vega@5?noext\",\n",
       "      \"vega-lib\": \"https://cdn.jsdelivr.net/npm/vega-lib?noext\",\n",
       "      \"vega-lite\": \"https://cdn.jsdelivr.net/npm/vega-lite@5.20.1?noext\",\n",
       "      \"vega-embed\": \"https://cdn.jsdelivr.net/npm/vega-embed@6?noext\",\n",
       "    };\n",
       "\n",
       "    function maybeLoadScript(lib, version) {\n",
       "      var key = `${lib.replace(\"-\", \"\")}_version`;\n",
       "      return (VEGA_DEBUG[key] == version) ?\n",
       "        Promise.resolve(paths[lib]) :\n",
       "        new Promise(function(resolve, reject) {\n",
       "          var s = document.createElement('script');\n",
       "          document.getElementsByTagName(\"head\")[0].appendChild(s);\n",
       "          s.async = true;\n",
       "          s.onload = () => {\n",
       "            VEGA_DEBUG[key] = version;\n",
       "            return resolve(paths[lib]);\n",
       "          };\n",
       "          s.onerror = () => reject(`Error loading script: ${paths[lib]}`);\n",
       "          s.src = paths[lib];\n",
       "        });\n",
       "    }\n",
       "\n",
       "    function showError(err) {\n",
       "      outputDiv.innerHTML = `<div class=\"error\" style=\"color:red;\">${err}</div>`;\n",
       "      throw err;\n",
       "    }\n",
       "\n",
       "    function displayChart(vegaEmbed) {\n",
       "      vegaEmbed(outputDiv, spec, embedOpt)\n",
       "        .catch(err => showError(`Javascript Error: ${err.message}<br>This usually means there's a typo in your chart specification. See the javascript console for the full traceback.`));\n",
       "    }\n",
       "\n",
       "    if(typeof define === \"function\" && define.amd) {\n",
       "      requirejs.config({paths});\n",
       "      let deps = [\"vega-embed\"];\n",
       "      require(deps, displayChart, err => showError(`Error loading script: ${err.message}`));\n",
       "    } else {\n",
       "      maybeLoadScript(\"vega\", \"5\")\n",
       "        .then(() => maybeLoadScript(\"vega-lite\", \"5.20.1\"))\n",
       "        .then(() => maybeLoadScript(\"vega-embed\", \"6\"))\n",
       "        .catch(showError)\n",
       "        .then(() => displayChart(vegaEmbed));\n",
       "    }\n",
       "  })({\"config\": {\"view\": {\"continuousWidth\": 300, \"continuousHeight\": 300}, \"axis\": {\"labelColor\": \"#5F6368\", \"labelFont\": \"Roboto\", \"labelFontSize\": 12, \"titleColor\": \"#5F6368\", \"titleFont\": \"Roboto\", \"titleFontSize\": 12, \"titleFontWeight\": \"normal\"}}, \"layer\": [{\"mark\": {\"type\": \"line\"}, \"encoding\": {\"color\": {\"field\": \"channel\", \"type\": \"nominal\"}, \"strokeDash\": {\"field\": \"spend_level\", \"legend\": {\"title\": null}, \"sort\": \"descending\", \"type\": \"nominal\"}, \"x\": {\"axis\": {\"domainColor\": \"#DADCE0\", \"labelExpr\": \"replace(format(datum.value, '.3~s'), 'G', 'B')\", \"labelPadding\": 10, \"ticks\": false}, \"field\": \"spend\", \"title\": \"Spend\", \"type\": \"quantitative\"}, \"y\": {\"axis\": {\"labelExpr\": \"replace(format(datum.value, '.3~s'), 'G', 'B')\", \"titleAlign\": \"left\", \"titleAngle\": 0, \"titleY\": -20}, \"field\": \"mean\", \"title\": \"Incremental outcome\", \"type\": \"quantitative\"}}, \"transform\": [{\"calculate\": \"datum.spend_multiplier >= 1.0 ? \\\"Above current spend\\\" : \\\"Below current spend\\\"\", \"as\": \"spend_level\"}]}, {\"mark\": {\"type\": \"point\", \"filled\": true, \"opacity\": 1, \"size\": 80}, \"encoding\": {\"color\": {\"field\": \"channel\", \"type\": \"nominal\"}, \"shape\": {\"field\": \"current_spend\", \"legend\": {\"title\": null}, \"type\": \"nominal\"}, \"tooltip\": [{\"field\": \"spend\", \"type\": \"quantitative\"}, {\"field\": \"mean\", \"type\": \"quantitative\"}], \"x\": {\"axis\": {\"domainColor\": \"#DADCE0\", \"labelExpr\": \"replace(format(datum.value, '.3~s'), 'G', 'B')\", \"labelPadding\": 10, \"ticks\": false}, \"field\": \"spend\", \"title\": \"Spend\", \"type\": \"quantitative\"}, \"y\": {\"axis\": {\"labelExpr\": \"replace(format(datum.value, '.3~s'), 'G', 'B')\", \"titleAlign\": \"left\", \"titleAngle\": 0, \"titleY\": -20}, \"field\": \"mean\", \"title\": \"Incremental outcome\", \"type\": \"quantitative\"}}, \"transform\": [{\"calculate\": \"datum.spend_multiplier >= 1.0 ? \\\"Above current spend\\\" : \\\"Below current spend\\\"\", \"as\": \"spend_level\"}, {\"filter\": \"(datum.spend_multiplier === 1.0)\"}]}], \"data\": {\"url\": \"altair-data-ec0d98ae9ecea826f53fa3db801b4faf.json\", \"format\": {\"type\": \"json\"}}, \"title\": {\"text\": \"Response curves by marketing channel (top 3)\", \"anchor\": \"start\", \"color\": \"#3C4043\", \"font\": \"Google Sans Display\", \"fontSize\": 18, \"fontWeight\": \"normal\", \"offset\": 10}, \"width\": 400, \"$schema\": \"https://vega.github.io/schema/vega-lite/v5.20.1.json\"}, {\"mode\": \"vega-lite\"});\n",
       "</script>"
      ],
      "text/plain": [
       "alt.LayerChart(...)"
      ]
     },
     "execution_count": 232,
     "metadata": {},
     "output_type": "execute_result"
    }
   ],
   "source": [
    "media_effects = visualizer.MediaEffects(mmm)\n",
    "media_effects.plot_response_curves(plot_separately=False, include_ci=False)"
   ]
  },
  {
   "cell_type": "code",
   "execution_count": null,
   "metadata": {},
   "outputs": [],
   "source": []
  }
 ],
 "metadata": {
  "kernelspec": {
   "display_name": ".venv",
   "language": "python",
   "name": "python3"
  },
  "language_info": {
   "codemirror_mode": {
    "name": "ipython",
    "version": 3
   },
   "file_extension": ".py",
   "mimetype": "text/x-python",
   "name": "python",
   "nbconvert_exporter": "python",
   "pygments_lexer": "ipython3",
   "version": "3.12.8"
  }
 },
 "nbformat": 4,
 "nbformat_minor": 4
}
