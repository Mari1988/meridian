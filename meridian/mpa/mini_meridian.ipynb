{
 "cells": [
  {
   "cell_type": "code",
   "execution_count": 1,
   "id": "fd2116e1",
   "metadata": {},
   "outputs": [],
   "source": [
    "from __future__ import annotations\n",
    "\n",
    "import sys\n",
    "home_dir = \"/Users/mariappan.subramanian/Documents/\"\n",
    "sys.path.append(f'{home_dir}/repo/forked/meridian/meridian/')\n",
    "\n",
    "from meridian.mpa.mini_meridian_utils import create_xarray_and_tf_tensor\n",
    "\n",
    "from typing import Dict, List, Optional, Sequence, Tuple\n",
    "import pandas as pd\n",
    "import numpy as np\n",
    "import tensorflow as tf\n",
    "import tensorflow_probability as tfp"
   ]
  },
  {
   "cell_type": "markdown",
   "id": "6c201fc3",
   "metadata": {},
   "source": [
    "1. Define Config"
   ]
  },
  {
   "cell_type": "code",
   "execution_count": 2,
   "id": "57209e30",
   "metadata": {},
   "outputs": [],
   "source": [
    "# 1. Define Config\n",
    "imp_variables = [\"TV_I\", \"Display_I\", \"Video_I\"]\n",
    "spend_variables = [\"TV_AC\", \"Display_AC\", \"Video_AC\"]\n",
    "kpi = \"conversions\"\n",
    "date_field = \"WES\"\n",
    "geo_field = \"Region\""
   ]
  },
  {
   "cell_type": "code",
   "execution_count": 3,
   "id": "e71123b2",
   "metadata": {},
   "outputs": [],
   "source": [
    "# read raw model ready data\n",
    "input_file_path = \"/Users/mariappan.subramanian/OneDrive - The Trade Desk/MMM/Media Parameter Analysis/Dev/InteractionEffects/data/testdata_Mazda_national_False_mdf.csv\"\n",
    "sample_data = pd.read_csv(input_file_path)"
   ]
  },
  {
   "cell_type": "code",
   "execution_count": 4,
   "id": "bf2d7ac2",
   "metadata": {},
   "outputs": [
    {
     "data": {
      "text/html": [
       "<div>\n",
       "<style scoped>\n",
       "    .dataframe tbody tr th:only-of-type {\n",
       "        vertical-align: middle;\n",
       "    }\n",
       "\n",
       "    .dataframe tbody tr th {\n",
       "        vertical-align: top;\n",
       "    }\n",
       "\n",
       "    .dataframe thead th {\n",
       "        text-align: right;\n",
       "    }\n",
       "</style>\n",
       "<table border=\"1\" class=\"dataframe\">\n",
       "  <thead>\n",
       "    <tr style=\"text-align: right;\">\n",
       "      <th></th>\n",
       "      <th>WES</th>\n",
       "      <th>conversions</th>\n",
       "      <th>TV_I</th>\n",
       "      <th>Display_I</th>\n",
       "      <th>Video_I</th>\n",
       "      <th>TV_AC</th>\n",
       "      <th>Display_AC</th>\n",
       "      <th>Video_AC</th>\n",
       "      <th>Region</th>\n",
       "      <th>Population</th>\n",
       "      <th>revenue_per_conversion</th>\n",
       "    </tr>\n",
       "  </thead>\n",
       "  <tbody>\n",
       "    <tr>\n",
       "      <th>0</th>\n",
       "      <td>2024-05-04</td>\n",
       "      <td>752401</td>\n",
       "      <td>137061</td>\n",
       "      <td>4862581</td>\n",
       "      <td>257424</td>\n",
       "      <td>1950.982979</td>\n",
       "      <td>15374.634872</td>\n",
       "      <td>2051.044776</td>\n",
       "      <td>CALIFORNIA</td>\n",
       "      <td>39431263</td>\n",
       "      <td>1.0</td>\n",
       "    </tr>\n",
       "    <tr>\n",
       "      <th>1</th>\n",
       "      <td>2024-05-04</td>\n",
       "      <td>518382</td>\n",
       "      <td>165933</td>\n",
       "      <td>2730622</td>\n",
       "      <td>147589</td>\n",
       "      <td>2357.054830</td>\n",
       "      <td>9873.101013</td>\n",
       "      <td>1182.903972</td>\n",
       "      <td>FLORIDA</td>\n",
       "      <td>23372215</td>\n",
       "      <td>1.0</td>\n",
       "    </tr>\n",
       "    <tr>\n",
       "      <th>2</th>\n",
       "      <td>2024-05-04</td>\n",
       "      <td>406187</td>\n",
       "      <td>92170</td>\n",
       "      <td>1748128</td>\n",
       "      <td>83139</td>\n",
       "      <td>1312.753060</td>\n",
       "      <td>6091.144472</td>\n",
       "      <td>675.737354</td>\n",
       "      <td>GEORGIA</td>\n",
       "      <td>11180878</td>\n",
       "      <td>1.0</td>\n",
       "    </tr>\n",
       "    <tr>\n",
       "      <th>3</th>\n",
       "      <td>2024-05-04</td>\n",
       "      <td>623733</td>\n",
       "      <td>73928</td>\n",
       "      <td>2544351</td>\n",
       "      <td>100274</td>\n",
       "      <td>1052.161500</td>\n",
       "      <td>8597.751056</td>\n",
       "      <td>817.732719</td>\n",
       "      <td>ILLINOIS</td>\n",
       "      <td>12710158</td>\n",
       "      <td>1.0</td>\n",
       "    </tr>\n",
       "    <tr>\n",
       "      <th>4</th>\n",
       "      <td>2024-05-04</td>\n",
       "      <td>180935</td>\n",
       "      <td>34391</td>\n",
       "      <td>946181</td>\n",
       "      <td>63956</td>\n",
       "      <td>491.882279</td>\n",
       "      <td>3197.289078</td>\n",
       "      <td>518.980663</td>\n",
       "      <td>MASSACHUSETTS</td>\n",
       "      <td>7136171</td>\n",
       "      <td>1.0</td>\n",
       "    </tr>\n",
       "  </tbody>\n",
       "</table>\n",
       "</div>"
      ],
      "text/plain": [
       "          WES  conversions    TV_I  Display_I  Video_I        TV_AC  \\\n",
       "0  2024-05-04       752401  137061    4862581   257424  1950.982979   \n",
       "1  2024-05-04       518382  165933    2730622   147589  2357.054830   \n",
       "2  2024-05-04       406187   92170    1748128    83139  1312.753060   \n",
       "3  2024-05-04       623733   73928    2544351   100274  1052.161500   \n",
       "4  2024-05-04       180935   34391     946181    63956   491.882279   \n",
       "\n",
       "     Display_AC     Video_AC         Region  Population  \\\n",
       "0  15374.634872  2051.044776     CALIFORNIA    39431263   \n",
       "1   9873.101013  1182.903972        FLORIDA    23372215   \n",
       "2   6091.144472   675.737354        GEORGIA    11180878   \n",
       "3   8597.751056   817.732719       ILLINOIS    12710158   \n",
       "4   3197.289078   518.980663  MASSACHUSETTS     7136171   \n",
       "\n",
       "   revenue_per_conversion  \n",
       "0                     1.0  \n",
       "1                     1.0  \n",
       "2                     1.0  \n",
       "3                     1.0  \n",
       "4                     1.0  "
      ]
     },
     "execution_count": 4,
     "metadata": {},
     "output_type": "execute_result"
    }
   ],
   "source": [
    "sample_data.head()"
   ]
  },
  {
   "cell_type": "markdown",
   "id": "cef2b5e5",
   "metadata": {},
   "source": [
    "2. Create Data Tensors"
   ]
  },
  {
   "cell_type": "code",
   "execution_count": 62,
   "id": "01685c32",
   "metadata": {},
   "outputs": [],
   "source": [
    "# create raw media tensors\n",
    "media_tensors = create_xarray_and_tf_tensor(sample_data, date_field, geo_field, imp_variables)  # (G, T, M)\n",
    "media_spend_tensors = create_xarray_and_tf_tensor(sample_data, date_field, geo_field, spend_variables)  # (G, T, M)\n",
    "\n",
    "# create raw outcome tensor\n",
    "kpi_tensor = create_xarray_and_tf_tensor(sample_data, date_field, geo_field, [kpi])  # (G, T, 1)\n",
    "kpi_tensor = tf.squeeze(kpi_tensor, axis=-1)  # (G, T)\n",
    "\n",
    "# create raw population tensor\n",
    "population_tensor = create_xarray_and_tf_tensor(sample_data, date_field, geo_field, [\"Population\"])  # (G, T, 1)\n",
    "population_tensor = tf.reduce_mean(population_tensor, axis=[1,2])  # (G,)"
   ]
  },
  {
   "cell_type": "markdown",
   "id": "e2a7d08e",
   "metadata": {},
   "source": [
    "3. Scaling Logic"
   ]
  },
  {
   "cell_type": "code",
   "execution_count": 63,
   "id": "e08afe7a",
   "metadata": {},
   "outputs": [
    {
     "name": "stdout",
     "output_type": "stream",
     "text": [
      "WARNING:tensorflow:5 out of the last 6 calls to <function MediaTransformer.forward at 0x176ada980> triggered tf.function retracing. Tracing is expensive and the excessive number of tracings could be due to (1) creating @tf.function repeatedly in a loop, (2) passing tensors with different shapes, (3) passing Python objects instead of tensors. For (1), please define your @tf.function outside of the loop. For (2), @tf.function has reduce_retracing=True option that can avoid unnecessary retracing. For (3), please refer to https://www.tensorflow.org/guide/function#controlling_retracing and https://www.tensorflow.org/api_docs/python/tf/function for  more details.\n"
     ]
    }
   ],
   "source": [
    "# scaling pipeline\n",
    "\n",
    "# 1. media scaling (first, scale by population, and then scale by median of non-zero impressions)\n",
    "from meridian.model.transformers import MediaTransformer, KpiTransformer\n",
    "media_transformer = MediaTransformer(media_tensors, population_tensor)\n",
    "media_scaled = media_transformer.forward(media_tensors)\n",
    "\n",
    "# 2. scale the kpi\n",
    "kpi_transformer = KpiTransformer(kpi_tensor, population_tensor)\n",
    "kpi_scaled = kpi_transformer.forward(kpi_tensor)"
   ]
  },
  {
   "cell_type": "code",
   "execution_count": 65,
   "id": "a4d48adc",
   "metadata": {},
   "outputs": [
    {
     "data": {
      "text/plain": [
       "<tf.Tensor: shape=(61,), dtype=float32, numpy=\n",
       "array([-1.1902621 , -1.3088555 , -1.2479244 , -1.129949  , -1.1154652 ,\n",
       "       -1.2549164 , -1.2497667 , -1.2391946 , -1.2588258 , -1.321858  ,\n",
       "       -1.2404668 , -1.2479244 , -1.1282021 , -1.1824524 , -1.2593505 ,\n",
       "       -1.2918752 , -1.2409393 , -1.1900169 , -1.3629876 , -1.4569635 ,\n",
       "       -1.3706791 , -1.355012  , -1.3554708 , -1.3606251 , -1.3019952 ,\n",
       "       -1.3095825 , -1.4585719 , -1.4524635 , -1.327939  , -1.3667948 ,\n",
       "       -1.441912  , -1.4242618 , -1.2818166 , -1.2327796 , -1.1885039 ,\n",
       "       -1.0923995 , -1.2363892 , -1.1717032 , -1.1393943 , -1.242091  ,\n",
       "       -1.2219827 , -1.2561793 , -1.1490984 , -1.1755967 , -1.084342  ,\n",
       "       -1.0201718 , -1.0882446 , -0.97313595, -1.0397507 , -1.1138614 ,\n",
       "       -1.2476268 , -1.3607183 , -1.3302517 , -1.4721993 , -1.3992083 ,\n",
       "       -1.2734845 , -1.2789112 , -1.257749  , -1.4100393 , -1.3158815 ,\n",
       "       -1.4364988 ], dtype=float32)>"
      ]
     },
     "execution_count": 65,
     "metadata": {},
     "output_type": "execute_result"
    }
   ],
   "source": [
    "kpi_scaled[0,]"
   ]
  },
  {
   "cell_type": "code",
   "execution_count": 66,
   "id": "dbf4802a",
   "metadata": {},
   "outputs": [
    {
     "data": {
      "text/plain": [
       "<tf.Tensor: shape=(5, 3), dtype=float32, numpy=\n",
       "array([[0.13640535, 0.79866165, 0.11554014],\n",
       "       [0.4176674 , 0.5373079 , 0.26535264],\n",
       "       [0.482035  , 0.7153818 , 0.36691928],\n",
       "       [0.4837627 , 0.87780654, 0.784325  ],\n",
       "       [0.80171543, 0.94360584, 0.7013741 ]], dtype=float32)>"
      ]
     },
     "execution_count": 66,
     "metadata": {},
     "output_type": "execute_result"
    }
   ],
   "source": [
    "media_scaled[0,:5,]"
   ]
  }
 ],
 "metadata": {
  "kernelspec": {
   "display_name": ".venv",
   "language": "python",
   "name": "python3"
  },
  "language_info": {
   "codemirror_mode": {
    "name": "ipython",
    "version": 3
   },
   "file_extension": ".py",
   "mimetype": "text/x-python",
   "name": "python",
   "nbconvert_exporter": "python",
   "pygments_lexer": "ipython3",
   "version": "3.12.8"
  }
 },
 "nbformat": 4,
 "nbformat_minor": 5
}
