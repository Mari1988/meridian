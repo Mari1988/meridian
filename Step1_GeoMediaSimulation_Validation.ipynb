{
 "cells": [
  {
   "cell_type": "markdown",
   "id": "cell-0",
   "metadata": {},
   "source": [
    "# Step 1: Geo-Level Scaled Media Simulation Validation\n",
    "\n",
    "This notebook validates the **corrected** first step of the revamped FastResponseCurves implementation:\n",
    "**Geo-level scaled media simulation from 0 to 2x maximum historical scaled media per geography.**\n",
    "\n",
    "## Key Correction\n",
    "- **Previous**: Simulated spend scenarios (wrong - values in millions)\n",
    "- **Current**: Simulates scaled media scenarios (correct - values 0-15 range)\n",
    "- **Data source**: `mmm.media_tensors.media_scaled` (the data actually used in transformations)\n",
    "\n",
    "## Objectives\n",
    "1. Test the `GeoMediaSimulator` class with real model data\n",
    "2. Validate scaled media range generation per geo and channel\n",
    "3. Visualize scaled media distributions and ranges\n",
    "4. Confirm compatibility with adstock/hill transformations\n",
    "5. Confirm readiness for Step 2 (media transformations)"
   ]
  },
  {
   "cell_type": "markdown",
   "id": "cell-1",
   "metadata": {},
   "source": [
    "## Setup and Imports"
   ]
  },
  {
   "cell_type": "code",
   "execution_count": 15,
   "id": "b4b4cc2f",
   "metadata": {},
   "outputs": [
    {
     "name": "stdout",
     "output_type": "stream",
     "text": [
      "The autoreload extension is already loaded. To reload it, use:\n",
      "  %reload_ext autoreload\n"
     ]
    }
   ],
   "source": [
    "%load_ext autoreload\n",
    "%autoreload 2"
   ]
  },
  {
   "cell_type": "code",
   "execution_count": 20,
   "id": "cell-2",
   "metadata": {},
   "outputs": [
    {
     "name": "stdout",
     "output_type": "stream",
     "text": [
      "📦 Imports completed successfully!\n"
     ]
    }
   ],
   "source": [
    "import numpy as np\n",
    "import pandas as pd\n",
    "import matplotlib.pyplot as plt\n",
    "# import seaborn as sns\n",
    "from pathlib import Path\n",
    "import sys\n",
    "import tensorflow as tf\n",
    "\n",
    "# Add current directory to path to import our module\n",
    "sys.path.append('.')\n",
    "from geo_media_simulation import GeoMediaSimulator\n",
    "from meridian.model import model\n",
    "\n",
    "# Set up plotting\n",
    "plt.style.use('default')\n",
    "# sns.set_palette('husl')\n",
    "%matplotlib inline\n",
    "\n",
    "print(\"📦 Imports completed successfully!\")"
   ]
  },
  {
   "cell_type": "markdown",
   "id": "cell-3",
   "metadata": {},
   "source": [
    "## Load Test Model (ALDI)"
   ]
  },
  {
   "cell_type": "code",
   "execution_count": 21,
   "id": "cell-4",
   "metadata": {},
   "outputs": [
    {
     "name": "stdout",
     "output_type": "stream",
     "text": [
      "📁 Loading ALDI model...\n",
      "   Path: 0_test_working_spend_ALDI_US_Starcom.pkl\n",
      "\n",
      "📊 Model Information:\n",
      "   Geos: 28\n",
      "   Time periods: 78\n",
      "   Media channels: 3\n",
      "   R&F channels: 0\n",
      "   Media channel names: ['TV', 'Display', 'Video']\n",
      "   First 5 geos: [np.str_('ALABAMA'), np.str_('ARIZONA'), np.str_('CALIFORNIA'), np.str_('CONNECTICUT'), np.str_('FLORIDA')]\n",
      "   Time range: 2024-01-06 to 2025-06-28\n"
     ]
    }
   ],
   "source": [
    "# Model path\n",
    "MODEL_PATH = \"/Users/mariappan.subramanian/Library/CloudStorage/OneDrive-TheTradeDesk/MMM/Media Parameter Analysis/Dev/MMMFeasibility/model_objects/0_test_working_spend_ALDI_US_Starcom.pkl\"\n",
    "\n",
    "print(f\"📁 Loading ALDI model...\")\n",
    "print(f\"   Path: {Path(MODEL_PATH).name}\")\n",
    "\n",
    "# Load model\n",
    "mmm = model.load_mmm(MODEL_PATH)\n",
    "\n",
    "# Display model info\n",
    "print(f\"\\n📊 Model Information:\")\n",
    "print(f\"   Geos: {mmm.n_geos}\")\n",
    "print(f\"   Time periods: {mmm.n_times}\")\n",
    "print(f\"   Media channels: {mmm.n_media_channels}\")\n",
    "print(f\"   R&F channels: {mmm.n_rf_channels}\")\n",
    "\n",
    "if mmm.input_data.media_channel is not None:\n",
    "    print(f\"   Media channel names: {list(mmm.input_data.media_channel.values)}\")\n",
    "if mmm.input_data.geo is not None:\n",
    "    print(f\"   First 5 geos: {list(mmm.input_data.geo.values[:5])}\")\n",
    "if mmm.input_data.time is not None:\n",
    "    print(f\"   Time range: {mmm.input_data.time.values[0]} to {mmm.input_data.time.values[-1]}\")"
   ]
  },
  {
   "cell_type": "markdown",
   "id": "cell-7",
   "metadata": {},
   "source": [
    "## Initialize GeoMediaSimulator"
   ]
  },
  {
   "cell_type": "code",
   "execution_count": 30,
   "id": "cell-8",
   "metadata": {},
   "outputs": [
    {
     "name": "stdout",
     "output_type": "stream",
     "text": [
      "⚡ Initializing GeoMediaSimulator...\n",
      "📊 Scaled media data extracted:\n",
      "   Shape: (28, 78, 3) (geos, times, channels)\n",
      "   Channels: ['TV', 'Display', 'Video']\n",
      "   Value range: [[0.09167854 0.04971217 0.05246428], [ 7.536399  5.281188 13.257745]]\n"
     ]
    }
   ],
   "source": [
    "print(\"⚡ Initializing GeoMediaSimulator...\")\n",
    "\n",
    "# Initialize simulator\n",
    "simulator = GeoMediaSimulator(mmm)\n",
    "\n",
    "# print(f\"\\n✅ Simulator initialized successfully!\")\n",
    "# print(f\"   Historical scaled media shape: {simulator.historical_scaled_media.shape}\")\n",
    "# print(f\"   Channel names: {simulator.channel_names}\")\n",
    "# print(f\"   Number of geos: {simulator.n_geos}\")\n",
    "# print(f\"   Number of time periods: {simulator.n_times}\")\n",
    "# print(f\"   Number of channels: {simulator.n_channels}\")\n",
    "# print(f\"   Value range: [{float(simulator.historical_scaled_media.numpy().min()):.3f}, {float(simulator.historical_scaled_media.numpy().max()):.3f}]\")"
   ]
  },
  {
   "cell_type": "markdown",
   "id": "cell-9",
   "metadata": {},
   "source": [
    "## Generate Geo-Level Scaled Media Scenarios"
   ]
  },
  {
   "cell_type": "code",
   "execution_count": 31,
   "id": "cell-10",
   "metadata": {},
   "outputs": [
    {
     "name": "stdout",
     "output_type": "stream",
     "text": [
      "🗺️ Generating geo-level scaled media scenarios...\n",
      "🗺️ Generating geo-level scaled media scenarios...\n",
      "   Max multiplier: 2.0x\n",
      "   Steps per geo: 50\n",
      "   Historical scaled media shape: (28, 78, 3)\n",
      "   Geo max scaled media shape: (28, 3)\n",
      "   Scaled media range: [1.336, 13.258]\n",
      "✅ Geo scaled media scenarios generated:\n",
      "   Output shape: (28, 50, 3) (geos, steps, channels)\n",
      "   Scaled media range per geo: 0 to 2.0x historical max\n",
      "   Max simulation values: ['15.073', '10.562', '26.515']\n",
      "\n",
      "📊 Generation Results:\n",
      "   Media scenarios shape: (28, 50, 3)\n",
      "   Expected shape: (28, 50, 3)\n",
      "   Max multiplier: 2.0x\n",
      "   Steps per geo: 50\n",
      "   Channels: ['TV', 'Display', 'Video']\n",
      "   Data type: scaled_media\n",
      "   Value range: [1.336, 13.258]\n",
      "   Simulation range: [0.000, 26.515]\n",
      "\n",
      "✅ Shape validation: PASS\n"
     ]
    }
   ],
   "source": [
    "print(\"🗺️ Generating geo-level scaled media scenarios...\")\n",
    "\n",
    "# Generate scaled media scenarios\n",
    "media_scenarios, metadata = simulator.generate_geo_media_scenarios(\n",
    "    max_multiplier=2.0,  # 0 to 200% of historical max\n",
    "    num_steps=50,        # 50 steps per geo\n",
    "    selected_geos=None,  # All geos\n",
    "    selected_times=None  # All time periods\n",
    ")\n",
    "\n",
    "print(f\"\\n📊 Generation Results:\")\n",
    "print(f\"   Media scenarios shape: {media_scenarios.shape}\")\n",
    "print(f\"   Expected shape: ({simulator.n_geos}, 50, {simulator.n_channels})\")\n",
    "print(f\"   Max multiplier: {metadata['max_multiplier']}x\")\n",
    "print(f\"   Steps per geo: {metadata['num_steps']}\")\n",
    "print(f\"   Channels: {metadata['channel_names']}\")\n",
    "print(f\"   Data type: {metadata['data_type']}\")\n",
    "print(f\"   Value range: [{metadata['value_range'][0]:.3f}, {metadata['value_range'][1]:.3f}]\")\n",
    "print(f\"   Simulation range: [{metadata['simulation_range'][0]:.3f}, {metadata['simulation_range'][1]:.3f}]\")\n",
    "\n",
    "# Validate shapes\n",
    "expected_shape = (simulator.n_geos, 50, simulator.n_channels)\n",
    "actual_shape = media_scenarios.shape\n",
    "print(f\"\\n✅ Shape validation: {'PASS' if actual_shape == expected_shape else 'FAIL'}\")"
   ]
  }
 ],
 "metadata": {
  "kernelspec": {
   "display_name": ".venv",
   "language": "python",
   "name": "python3"
  },
  "language_info": {
   "codemirror_mode": {
    "name": "ipython",
    "version": 3
   },
   "file_extension": ".py",
   "mimetype": "text/x-python",
   "name": "python",
   "nbconvert_exporter": "python",
   "pygments_lexer": "ipython3",
   "version": "3.12.8"
  }
 },
 "nbformat": 4,
 "nbformat_minor": 5
}
